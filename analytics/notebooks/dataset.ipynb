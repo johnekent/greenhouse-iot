{
 "cells": [
  {
   "cell_type": "code",
   "execution_count": null,
   "metadata": {},
   "outputs": [],
   "source": []
  },
  {
   "cell_type": "code",
   "execution_count": 5,
   "metadata": {},
   "outputs": [],
   "source": [
    "import pandas as pd"
   ]
  },
  {
   "cell_type": "code",
   "execution_count": 7,
   "metadata": {},
   "outputs": [],
   "source": [
    "#raw_json = pd.read_csv('C:\\\\Users\\\\john_\\\\Downloads\\\\bdcbb5d9-0e5a-4007-85e1-0ab3acdb25ff.csv')\n",
    "raw_json = pd.read_csv('/home/john/Downloads/129913f4-b386-4053-8005-37d3331864b2.csv')"
   ]
  },
  {
   "cell_type": "code",
   "execution_count": 8,
   "metadata": {},
   "outputs": [
    {
     "output_type": "execute_result",
     "data": {
      "text/plain": [
       "Index(['location', 'volume_gallons', 'temp_humidity', 'light', 'water',\n",
       "       'water_vs_air_temp_fahrenheit', 'timestamp', 'light_uv', '__dt'],\n",
       "      dtype='object')"
      ]
     },
     "metadata": {},
     "execution_count": 8
    }
   ],
   "source": [
    "raw_json.columns"
   ]
  },
  {
   "cell_type": "code",
   "execution_count": 9,
   "metadata": {},
   "outputs": [
    {
     "output_type": "execute_result",
     "data": {
      "text/plain": [
       "      location  volume_gallons  \\\n",
       "0      hydro_1        1.358643   \n",
       "1      hydro_1        4.881402   \n",
       "2      hydro_1        4.794115   \n",
       "3      hydro_1        4.687666   \n",
       "4  pi_zero_2_w        4.444213   \n",
       "\n",
       "                                       temp_humidity  \\\n",
       "0  {temp_celsius=23.6, temp_fahrenheit=74.48, hum...   \n",
       "1  {temp_celsius=23.7, temp_fahrenheit=74.66, hum...   \n",
       "2  {temp_celsius=26.7, temp_fahrenheit=80.06, hum...   \n",
       "3  {temp_celsius=23.3, temp_fahrenheit=73.94, hum...   \n",
       "4  {temp_celsius=25.5, temp_fahrenheit=77.9, humi...   \n",
       "\n",
       "                                        light  \\\n",
       "0  {visible=260, ir=254, uv=2, uv_index=0.02}   \n",
       "1  {visible=267, ir=295, uv=5, uv_index=0.05}   \n",
       "2  {visible=261, ir=258, uv=2, uv_index=0.02}   \n",
       "3  {visible=263, ir=267, uv=3, uv_index=0.03}   \n",
       "4  {visible=259, ir=253, uv=1, uv_index=0.01}   \n",
       "\n",
       "                                               water  \\\n",
       "0  {temp_celsius=21.937, temp_fahrenheit=71.48660...   \n",
       "1      {temp_celsius=22.125, temp_fahrenheit=71.825}   \n",
       "2  {temp_celsius=25.062, temp_fahrenheit=77.11160...   \n",
       "3     {temp_celsius=21.687, temp_fahrenheit=71.0366}   \n",
       "4  {temp_celsius=24.437, temp_fahrenheit=75.98660...   \n",
       "\n",
       "   water_vs_air_temp_fahrenheit  \\\n",
       "0                           NaN   \n",
       "1                           NaN   \n",
       "2                        2.9484   \n",
       "3                           NaN   \n",
       "4                        1.9134   \n",
       "\n",
       "                                           timestamp  \\\n",
       "0                                                NaN   \n",
       "1                                                NaN   \n",
       "2  {datetime=Mon Jul  4 18:44:11 2022, day_of_yea...   \n",
       "3                                                NaN   \n",
       "4  {datetime=Mon Jul  4 21:23:59 2022, day_of_yea...   \n",
       "\n",
       "                                            light_uv                     __dt  \n",
       "0                                                NaN  2022-07-04 00:00:00.000  \n",
       "1                                                NaN  2022-07-04 00:00:00.000  \n",
       "2  {uv=1, ambient=117, uvi=0.04173913043478261, l...  2022-07-04 00:00:00.000  \n",
       "3                                                NaN  2022-07-04 00:00:00.000  \n",
       "4                {uv=0, ambient=0, uvi=0.0, lux=0.0}  2022-07-05 00:00:00.000  "
      ],
      "text/html": "<div>\n<style scoped>\n    .dataframe tbody tr th:only-of-type {\n        vertical-align: middle;\n    }\n\n    .dataframe tbody tr th {\n        vertical-align: top;\n    }\n\n    .dataframe thead th {\n        text-align: right;\n    }\n</style>\n<table border=\"1\" class=\"dataframe\">\n  <thead>\n    <tr style=\"text-align: right;\">\n      <th></th>\n      <th>location</th>\n      <th>volume_gallons</th>\n      <th>temp_humidity</th>\n      <th>light</th>\n      <th>water</th>\n      <th>water_vs_air_temp_fahrenheit</th>\n      <th>timestamp</th>\n      <th>light_uv</th>\n      <th>__dt</th>\n    </tr>\n  </thead>\n  <tbody>\n    <tr>\n      <th>0</th>\n      <td>hydro_1</td>\n      <td>1.358643</td>\n      <td>{temp_celsius=23.6, temp_fahrenheit=74.48, hum...</td>\n      <td>{visible=260, ir=254, uv=2, uv_index=0.02}</td>\n      <td>{temp_celsius=21.937, temp_fahrenheit=71.48660...</td>\n      <td>NaN</td>\n      <td>NaN</td>\n      <td>NaN</td>\n      <td>2022-07-04 00:00:00.000</td>\n    </tr>\n    <tr>\n      <th>1</th>\n      <td>hydro_1</td>\n      <td>4.881402</td>\n      <td>{temp_celsius=23.7, temp_fahrenheit=74.66, hum...</td>\n      <td>{visible=267, ir=295, uv=5, uv_index=0.05}</td>\n      <td>{temp_celsius=22.125, temp_fahrenheit=71.825}</td>\n      <td>NaN</td>\n      <td>NaN</td>\n      <td>NaN</td>\n      <td>2022-07-04 00:00:00.000</td>\n    </tr>\n    <tr>\n      <th>2</th>\n      <td>hydro_1</td>\n      <td>4.794115</td>\n      <td>{temp_celsius=26.7, temp_fahrenheit=80.06, hum...</td>\n      <td>{visible=261, ir=258, uv=2, uv_index=0.02}</td>\n      <td>{temp_celsius=25.062, temp_fahrenheit=77.11160...</td>\n      <td>2.9484</td>\n      <td>{datetime=Mon Jul  4 18:44:11 2022, day_of_yea...</td>\n      <td>{uv=1, ambient=117, uvi=0.04173913043478261, l...</td>\n      <td>2022-07-04 00:00:00.000</td>\n    </tr>\n    <tr>\n      <th>3</th>\n      <td>hydro_1</td>\n      <td>4.687666</td>\n      <td>{temp_celsius=23.3, temp_fahrenheit=73.94, hum...</td>\n      <td>{visible=263, ir=267, uv=3, uv_index=0.03}</td>\n      <td>{temp_celsius=21.687, temp_fahrenheit=71.0366}</td>\n      <td>NaN</td>\n      <td>NaN</td>\n      <td>NaN</td>\n      <td>2022-07-04 00:00:00.000</td>\n    </tr>\n    <tr>\n      <th>4</th>\n      <td>pi_zero_2_w</td>\n      <td>4.444213</td>\n      <td>{temp_celsius=25.5, temp_fahrenheit=77.9, humi...</td>\n      <td>{visible=259, ir=253, uv=1, uv_index=0.01}</td>\n      <td>{temp_celsius=24.437, temp_fahrenheit=75.98660...</td>\n      <td>1.9134</td>\n      <td>{datetime=Mon Jul  4 21:23:59 2022, day_of_yea...</td>\n      <td>{uv=0, ambient=0, uvi=0.0, lux=0.0}</td>\n      <td>2022-07-05 00:00:00.000</td>\n    </tr>\n  </tbody>\n</table>\n</div>"
     },
     "metadata": {},
     "execution_count": 9
    }
   ],
   "source": [
    "raw_json.head()"
   ]
  },
  {
   "cell_type": "code",
   "execution_count": 10,
   "metadata": {},
   "outputs": [
    {
     "output_type": "execute_result",
     "data": {
      "text/plain": [
       "0      {visible=260, ir=254, uv=2, uv_index=0.02}\n",
       "1      {visible=267, ir=295, uv=5, uv_index=0.05}\n",
       "2      {visible=261, ir=258, uv=2, uv_index=0.02}\n",
       "3      {visible=263, ir=267, uv=3, uv_index=0.03}\n",
       "4      {visible=259, ir=253, uv=1, uv_index=0.01}\n",
       "                          ...                    \n",
       "950    {visible=262, ir=269, uv=3, uv_index=0.03}\n",
       "951    {visible=260, ir=259, uv=2, uv_index=0.02}\n",
       "952    {visible=260, ir=254, uv=2, uv_index=0.02}\n",
       "953    {visible=261, ir=257, uv=2, uv_index=0.02}\n",
       "954    {visible=260, ir=254, uv=2, uv_index=0.02}\n",
       "Name: light, Length: 955, dtype: object"
      ]
     },
     "metadata": {},
     "execution_count": 10
    }
   ],
   "source": [
    "raw_json['light']"
   ]
  },
  {
   "cell_type": "code",
   "execution_count": 12,
   "metadata": {},
   "outputs": [
    {
     "output_type": "execute_result",
     "data": {
      "text/plain": [
       "0      {visible=260, ir=254, uv=2, uv_index=0.02}\n",
       "1      {visible=267, ir=295, uv=5, uv_index=0.05}\n",
       "2      {visible=261, ir=258, uv=2, uv_index=0.02}\n",
       "3      {visible=263, ir=267, uv=3, uv_index=0.03}\n",
       "4      {visible=259, ir=253, uv=1, uv_index=0.01}\n",
       "                          ...                    \n",
       "950    {visible=262, ir=269, uv=3, uv_index=0.03}\n",
       "951    {visible=260, ir=259, uv=2, uv_index=0.02}\n",
       "952    {visible=260, ir=254, uv=2, uv_index=0.02}\n",
       "953    {visible=261, ir=257, uv=2, uv_index=0.02}\n",
       "954    {visible=260, ir=254, uv=2, uv_index=0.02}\n",
       "Name: light, Length: 955, dtype: object"
      ]
     },
     "metadata": {},
     "execution_count": 12
    }
   ],
   "source": [
    "# note that the values here are not valid json, even though valid json was published to the topic\n",
    "raw_json['light'].explode('light')"
   ]
  },
  {
   "cell_type": "code",
   "execution_count": 59,
   "metadata": {},
   "outputs": [],
   "source": [
    "import re\n",
    "import json\n",
    "def add_quotes(jsonish_string):\n",
    "    if isinstance(jsonish_string, str):\n",
    "        json_string = re.sub(\"(\\w+)=\", r'\"\\1\":',  jsonish_string) \n",
    "        return json.loads(json_string)\n",
    "    else:\n",
    "        return None\n",
    "    \n",
    "    \n",
    "raw_json[\"light_json\"] = raw_json['light'].apply(add_quotes)\n",
    "raw_json[\"light_uv_json\"] = raw_json['light_uv'].apply(add_quotes)"
   ]
  },
  {
   "cell_type": "code",
   "execution_count": 50,
   "metadata": {},
   "outputs": [
    {
     "output_type": "execute_result",
     "data": {
      "text/plain": [
       "0      {'visible': 260, 'ir': 254, 'uv': 2, 'uv_index...\n",
       "1      {'visible': 267, 'ir': 295, 'uv': 5, 'uv_index...\n",
       "2      {'visible': 261, 'ir': 258, 'uv': 2, 'uv_index...\n",
       "3      {'visible': 263, 'ir': 267, 'uv': 3, 'uv_index...\n",
       "4      {'visible': 259, 'ir': 253, 'uv': 1, 'uv_index...\n",
       "                             ...                        \n",
       "950    {'visible': 262, 'ir': 269, 'uv': 3, 'uv_index...\n",
       "951    {'visible': 260, 'ir': 259, 'uv': 2, 'uv_index...\n",
       "952    {'visible': 260, 'ir': 254, 'uv': 2, 'uv_index...\n",
       "953    {'visible': 261, 'ir': 257, 'uv': 2, 'uv_index...\n",
       "954    {'visible': 260, 'ir': 254, 'uv': 2, 'uv_index...\n",
       "Name: light_json, Length: 955, dtype: object"
      ]
     },
     "metadata": {},
     "execution_count": 50
    }
   ],
   "source": [
    "raw_json['light_json']"
   ]
  },
  {
   "cell_type": "code",
   "execution_count": 61,
   "metadata": {},
   "outputs": [
    {
     "output_type": "execute_result",
     "data": {
      "text/plain": [
       "      uv  ambient       uvi   lux\n",
       "0    NaN      NaN       NaN   NaN\n",
       "1    NaN      NaN       NaN   NaN\n",
       "2    1.0    117.0  0.041739  93.6\n",
       "3    NaN      NaN       NaN   NaN\n",
       "4    0.0      0.0  0.000000   0.0\n",
       "..   ...      ...       ...   ...\n",
       "950  NaN      NaN       NaN   NaN\n",
       "951  0.0    120.0  0.000000  96.0\n",
       "952  0.0      0.0  0.000000   0.0\n",
       "953  0.0     97.0  0.000000  77.6\n",
       "954  NaN      NaN       NaN   NaN\n",
       "\n",
       "[955 rows x 4 columns]"
      ],
      "text/html": "<div>\n<style scoped>\n    .dataframe tbody tr th:only-of-type {\n        vertical-align: middle;\n    }\n\n    .dataframe tbody tr th {\n        vertical-align: top;\n    }\n\n    .dataframe thead th {\n        text-align: right;\n    }\n</style>\n<table border=\"1\" class=\"dataframe\">\n  <thead>\n    <tr style=\"text-align: right;\">\n      <th></th>\n      <th>uv</th>\n      <th>ambient</th>\n      <th>uvi</th>\n      <th>lux</th>\n    </tr>\n  </thead>\n  <tbody>\n    <tr>\n      <th>0</th>\n      <td>NaN</td>\n      <td>NaN</td>\n      <td>NaN</td>\n      <td>NaN</td>\n    </tr>\n    <tr>\n      <th>1</th>\n      <td>NaN</td>\n      <td>NaN</td>\n      <td>NaN</td>\n      <td>NaN</td>\n    </tr>\n    <tr>\n      <th>2</th>\n      <td>1.0</td>\n      <td>117.0</td>\n      <td>0.041739</td>\n      <td>93.6</td>\n    </tr>\n    <tr>\n      <th>3</th>\n      <td>NaN</td>\n      <td>NaN</td>\n      <td>NaN</td>\n      <td>NaN</td>\n    </tr>\n    <tr>\n      <th>4</th>\n      <td>0.0</td>\n      <td>0.0</td>\n      <td>0.000000</td>\n      <td>0.0</td>\n    </tr>\n    <tr>\n      <th>...</th>\n      <td>...</td>\n      <td>...</td>\n      <td>...</td>\n      <td>...</td>\n    </tr>\n    <tr>\n      <th>950</th>\n      <td>NaN</td>\n      <td>NaN</td>\n      <td>NaN</td>\n      <td>NaN</td>\n    </tr>\n    <tr>\n      <th>951</th>\n      <td>0.0</td>\n      <td>120.0</td>\n      <td>0.000000</td>\n      <td>96.0</td>\n    </tr>\n    <tr>\n      <th>952</th>\n      <td>0.0</td>\n      <td>0.0</td>\n      <td>0.000000</td>\n      <td>0.0</td>\n    </tr>\n    <tr>\n      <th>953</th>\n      <td>0.0</td>\n      <td>97.0</td>\n      <td>0.000000</td>\n      <td>77.6</td>\n    </tr>\n    <tr>\n      <th>954</th>\n      <td>NaN</td>\n      <td>NaN</td>\n      <td>NaN</td>\n      <td>NaN</td>\n    </tr>\n  </tbody>\n</table>\n<p>955 rows × 4 columns</p>\n</div>"
     },
     "metadata": {},
     "execution_count": 61
    }
   ],
   "source": [
    "normalized_light = pd.json_normalize(raw_json['light_uv_json'])\n",
    "normalized_light"
   ]
  },
  {
   "cell_type": "code",
   "execution_count": 63,
   "metadata": {},
   "outputs": [
    {
     "output_type": "execute_result",
     "data": {
      "text/plain": [
       "      uv  ambient       uvi   lux\n",
       "2    1.0    117.0  0.041739  93.6\n",
       "4    0.0      0.0  0.000000   0.0\n",
       "6    0.0    107.0  0.000000  85.6\n",
       "7    0.0      0.0  0.000000   0.0\n",
       "11   0.0    120.0  0.000000  96.0\n",
       "..   ...      ...       ...   ...\n",
       "945  0.0    110.0  0.000000  88.0\n",
       "947  0.0    117.0  0.041739  94.4\n",
       "951  0.0    120.0  0.000000  96.0\n",
       "952  0.0      0.0  0.000000   0.0\n",
       "953  0.0     97.0  0.000000  77.6\n",
       "\n",
       "[243 rows x 4 columns]"
      ],
      "text/html": "<div>\n<style scoped>\n    .dataframe tbody tr th:only-of-type {\n        vertical-align: middle;\n    }\n\n    .dataframe tbody tr th {\n        vertical-align: top;\n    }\n\n    .dataframe thead th {\n        text-align: right;\n    }\n</style>\n<table border=\"1\" class=\"dataframe\">\n  <thead>\n    <tr style=\"text-align: right;\">\n      <th></th>\n      <th>uv</th>\n      <th>ambient</th>\n      <th>uvi</th>\n      <th>lux</th>\n    </tr>\n  </thead>\n  <tbody>\n    <tr>\n      <th>2</th>\n      <td>1.0</td>\n      <td>117.0</td>\n      <td>0.041739</td>\n      <td>93.6</td>\n    </tr>\n    <tr>\n      <th>4</th>\n      <td>0.0</td>\n      <td>0.0</td>\n      <td>0.000000</td>\n      <td>0.0</td>\n    </tr>\n    <tr>\n      <th>6</th>\n      <td>0.0</td>\n      <td>107.0</td>\n      <td>0.000000</td>\n      <td>85.6</td>\n    </tr>\n    <tr>\n      <th>7</th>\n      <td>0.0</td>\n      <td>0.0</td>\n      <td>0.000000</td>\n      <td>0.0</td>\n    </tr>\n    <tr>\n      <th>11</th>\n      <td>0.0</td>\n      <td>120.0</td>\n      <td>0.000000</td>\n      <td>96.0</td>\n    </tr>\n    <tr>\n      <th>...</th>\n      <td>...</td>\n      <td>...</td>\n      <td>...</td>\n      <td>...</td>\n    </tr>\n    <tr>\n      <th>945</th>\n      <td>0.0</td>\n      <td>110.0</td>\n      <td>0.000000</td>\n      <td>88.0</td>\n    </tr>\n    <tr>\n      <th>947</th>\n      <td>0.0</td>\n      <td>117.0</td>\n      <td>0.041739</td>\n      <td>94.4</td>\n    </tr>\n    <tr>\n      <th>951</th>\n      <td>0.0</td>\n      <td>120.0</td>\n      <td>0.000000</td>\n      <td>96.0</td>\n    </tr>\n    <tr>\n      <th>952</th>\n      <td>0.0</td>\n      <td>0.0</td>\n      <td>0.000000</td>\n      <td>0.0</td>\n    </tr>\n    <tr>\n      <th>953</th>\n      <td>0.0</td>\n      <td>97.0</td>\n      <td>0.000000</td>\n      <td>77.6</td>\n    </tr>\n  </tbody>\n</table>\n<p>243 rows × 4 columns</p>\n</div>"
     },
     "metadata": {},
     "execution_count": 63
    }
   ],
   "source": [
    "clean = normalized_light.dropna()\n",
    "clean"
   ]
  },
  {
   "cell_type": "code",
   "execution_count": 66,
   "metadata": {},
   "outputs": [
    {
     "output_type": "execute_result",
     "data": {
      "text/plain": [
       "               uv     ambient         uvi         lux\n",
       "count  243.000000  243.000000  243.000000  243.000000\n",
       "mean     0.115226   65.510288    0.005668   52.809877\n",
       "std      0.319954   54.207465    0.014328   43.299761\n",
       "min      0.000000    0.000000    0.000000    0.000000\n",
       "25%      0.000000    0.000000    0.000000    0.000000\n",
       "50%      0.000000   95.000000    0.000000   76.800000\n",
       "75%      0.000000  117.000000    0.000000   93.600000\n",
       "max      1.000000  177.000000    0.041739  141.600000"
      ],
      "text/html": "<div>\n<style scoped>\n    .dataframe tbody tr th:only-of-type {\n        vertical-align: middle;\n    }\n\n    .dataframe tbody tr th {\n        vertical-align: top;\n    }\n\n    .dataframe thead th {\n        text-align: right;\n    }\n</style>\n<table border=\"1\" class=\"dataframe\">\n  <thead>\n    <tr style=\"text-align: right;\">\n      <th></th>\n      <th>uv</th>\n      <th>ambient</th>\n      <th>uvi</th>\n      <th>lux</th>\n    </tr>\n  </thead>\n  <tbody>\n    <tr>\n      <th>count</th>\n      <td>243.000000</td>\n      <td>243.000000</td>\n      <td>243.000000</td>\n      <td>243.000000</td>\n    </tr>\n    <tr>\n      <th>mean</th>\n      <td>0.115226</td>\n      <td>65.510288</td>\n      <td>0.005668</td>\n      <td>52.809877</td>\n    </tr>\n    <tr>\n      <th>std</th>\n      <td>0.319954</td>\n      <td>54.207465</td>\n      <td>0.014328</td>\n      <td>43.299761</td>\n    </tr>\n    <tr>\n      <th>min</th>\n      <td>0.000000</td>\n      <td>0.000000</td>\n      <td>0.000000</td>\n      <td>0.000000</td>\n    </tr>\n    <tr>\n      <th>25%</th>\n      <td>0.000000</td>\n      <td>0.000000</td>\n      <td>0.000000</td>\n      <td>0.000000</td>\n    </tr>\n    <tr>\n      <th>50%</th>\n      <td>0.000000</td>\n      <td>95.000000</td>\n      <td>0.000000</td>\n      <td>76.800000</td>\n    </tr>\n    <tr>\n      <th>75%</th>\n      <td>0.000000</td>\n      <td>117.000000</td>\n      <td>0.000000</td>\n      <td>93.600000</td>\n    </tr>\n    <tr>\n      <th>max</th>\n      <td>1.000000</td>\n      <td>177.000000</td>\n      <td>0.041739</td>\n      <td>141.600000</td>\n    </tr>\n  </tbody>\n</table>\n</div>"
     },
     "metadata": {},
     "execution_count": 66
    }
   ],
   "source": [
    "clean.describe()"
   ]
  }
 ],
 "metadata": {
  "kernelspec": {
   "display_name": "Python 3 (ipykernel)",
   "language": "python",
   "name": "python3"
  },
  "language_info": {
   "codemirror_mode": {
    "name": "ipython",
    "version": 3
   },
   "file_extension": ".py",
   "mimetype": "text/x-python",
   "name": "python",
   "nbconvert_exporter": "python",
   "pygments_lexer": "ipython3",
   "version": "3.9.7-final"
  },
  "orig_nbformat": 4,
  "vscode": {
   "interpreter": {
    "hash": "e31d1671ba4b6a39b82fb8ca6507d9db53e6cf4e388ac500694842d5663643da"
   }
  }
 },
 "nbformat": 4,
 "nbformat_minor": 2
}