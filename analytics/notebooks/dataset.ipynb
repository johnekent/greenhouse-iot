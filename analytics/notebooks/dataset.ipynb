{
 "cells": [
  {
   "cell_type": "code",
   "execution_count": null,
   "metadata": {},
   "outputs": [],
   "source": []
  },
  {
   "cell_type": "code",
   "execution_count": 2,
   "metadata": {},
   "outputs": [],
   "source": [
    "import pandas as pd"
   ]
  },
  {
   "cell_type": "code",
   "execution_count": 5,
   "metadata": {},
   "outputs": [],
   "source": [
    "raw_json = pd.read_csv('C:\\\\Users\\\\john_\\\\Downloads\\\\bdcbb5d9-0e5a-4007-85e1-0ab3acdb25ff.csv')"
   ]
  },
  {
   "cell_type": "code",
   "execution_count": 7,
   "metadata": {},
   "outputs": [
    {
     "data": {
      "text/plain": [
       "Index(['location', 'volume_gallons', 'temp_humidity', 'light', 'water',\n",
       "       'water_vs_air_temp_fahrenheit', 'timestamp', 'light_uv', '__dt'],\n",
       "      dtype='object')"
      ]
     },
     "execution_count": 7,
     "metadata": {},
     "output_type": "execute_result"
    }
   ],
   "source": [
    "raw_json.columns"
   ]
  },
  {
   "cell_type": "code",
   "execution_count": 8,
   "metadata": {},
   "outputs": [
    {
     "data": {
      "text/html": [
       "<div>\n",
       "<style scoped>\n",
       "    .dataframe tbody tr th:only-of-type {\n",
       "        vertical-align: middle;\n",
       "    }\n",
       "\n",
       "    .dataframe tbody tr th {\n",
       "        vertical-align: top;\n",
       "    }\n",
       "\n",
       "    .dataframe thead th {\n",
       "        text-align: right;\n",
       "    }\n",
       "</style>\n",
       "<table border=\"1\" class=\"dataframe\">\n",
       "  <thead>\n",
       "    <tr style=\"text-align: right;\">\n",
       "      <th></th>\n",
       "      <th>location</th>\n",
       "      <th>volume_gallons</th>\n",
       "      <th>temp_humidity</th>\n",
       "      <th>light</th>\n",
       "      <th>water</th>\n",
       "      <th>water_vs_air_temp_fahrenheit</th>\n",
       "      <th>timestamp</th>\n",
       "      <th>light_uv</th>\n",
       "      <th>__dt</th>\n",
       "    </tr>\n",
       "  </thead>\n",
       "  <tbody>\n",
       "    <tr>\n",
       "      <th>0</th>\n",
       "      <td>pi_zero_2_w</td>\n",
       "      <td>3.824136</td>\n",
       "      <td>{temp_celsius=25.3, temp_fahrenheit=77.5399999...</td>\n",
       "      <td>{visible=261, ir=254, uv=2, uv_index=0.02}</td>\n",
       "      <td>{temp_celsius=24.312, temp_fahrenheit=75.7616}</td>\n",
       "      <td>1.7784</td>\n",
       "      <td>{datetime=Mon Jul  4 21:43:20 2022, day_of_yea...</td>\n",
       "      <td>{uv=0, ambient=0, uvi=0.0, lux=0.0}</td>\n",
       "      <td>2022-07-05 00:00:00.000</td>\n",
       "    </tr>\n",
       "    <tr>\n",
       "      <th>1</th>\n",
       "      <td>hydro_1</td>\n",
       "      <td>4.805272</td>\n",
       "      <td>{temp_celsius=24.8, temp_fahrenheit=76.64, hum...</td>\n",
       "      <td>{visible=265, ir=289, uv=4, uv_index=0.04}</td>\n",
       "      <td>{temp_celsius=23.125, temp_fahrenheit=73.625}</td>\n",
       "      <td>NaN</td>\n",
       "      <td>NaN</td>\n",
       "      <td>NaN</td>\n",
       "      <td>2022-07-04 00:00:00.000</td>\n",
       "    </tr>\n",
       "    <tr>\n",
       "      <th>2</th>\n",
       "      <td>hydro_1</td>\n",
       "      <td>2.218941</td>\n",
       "      <td>{temp_celsius=23.9, temp_fahrenheit=75.02, hum...</td>\n",
       "      <td>{visible=261, ir=254, uv=2, uv_index=0.02}</td>\n",
       "      <td>{temp_celsius=22.25, temp_fahrenheit=72.05}</td>\n",
       "      <td>NaN</td>\n",
       "      <td>NaN</td>\n",
       "      <td>NaN</td>\n",
       "      <td>2022-07-04 00:00:00.000</td>\n",
       "    </tr>\n",
       "    <tr>\n",
       "      <th>3</th>\n",
       "      <td>hydro_1</td>\n",
       "      <td>3.944390</td>\n",
       "      <td>{temp_celsius=26.8, temp_fahrenheit=80.2400000...</td>\n",
       "      <td>{visible=261, ir=259, uv=2, uv_index=0.02}</td>\n",
       "      <td>{temp_celsius=25.062, temp_fahrenheit=77.11160...</td>\n",
       "      <td>3.1284</td>\n",
       "      <td>{datetime=Mon Jul  4 18:50:58 2022, day_of_yea...</td>\n",
       "      <td>{uv=0, ambient=119, uvi=0.0, lux=95.1999999999...</td>\n",
       "      <td>2022-07-04 00:00:00.000</td>\n",
       "    </tr>\n",
       "    <tr>\n",
       "      <th>4</th>\n",
       "      <td>hydro_1</td>\n",
       "      <td>0.940614</td>\n",
       "      <td>{temp_celsius=26.5, temp_fahrenheit=79.7, humi...</td>\n",
       "      <td>{visible=261, ir=260, uv=2, uv_index=0.02}</td>\n",
       "      <td>{temp_celsius=25.062, temp_fahrenheit=77.11160...</td>\n",
       "      <td>2.5884</td>\n",
       "      <td>{datetime=Mon Jul  4 19:21:40 2022, day_of_yea...</td>\n",
       "      <td>{uv=0, ambient=121, uvi=0.0, lux=96.8}</td>\n",
       "      <td>2022-07-04 00:00:00.000</td>\n",
       "    </tr>\n",
       "  </tbody>\n",
       "</table>\n",
       "</div>"
      ],
      "text/plain": [
       "      location  volume_gallons  \\\n",
       "0  pi_zero_2_w        3.824136   \n",
       "1      hydro_1        4.805272   \n",
       "2      hydro_1        2.218941   \n",
       "3      hydro_1        3.944390   \n",
       "4      hydro_1        0.940614   \n",
       "\n",
       "                                       temp_humidity  \\\n",
       "0  {temp_celsius=25.3, temp_fahrenheit=77.5399999...   \n",
       "1  {temp_celsius=24.8, temp_fahrenheit=76.64, hum...   \n",
       "2  {temp_celsius=23.9, temp_fahrenheit=75.02, hum...   \n",
       "3  {temp_celsius=26.8, temp_fahrenheit=80.2400000...   \n",
       "4  {temp_celsius=26.5, temp_fahrenheit=79.7, humi...   \n",
       "\n",
       "                                        light  \\\n",
       "0  {visible=261, ir=254, uv=2, uv_index=0.02}   \n",
       "1  {visible=265, ir=289, uv=4, uv_index=0.04}   \n",
       "2  {visible=261, ir=254, uv=2, uv_index=0.02}   \n",
       "3  {visible=261, ir=259, uv=2, uv_index=0.02}   \n",
       "4  {visible=261, ir=260, uv=2, uv_index=0.02}   \n",
       "\n",
       "                                               water  \\\n",
       "0     {temp_celsius=24.312, temp_fahrenheit=75.7616}   \n",
       "1      {temp_celsius=23.125, temp_fahrenheit=73.625}   \n",
       "2        {temp_celsius=22.25, temp_fahrenheit=72.05}   \n",
       "3  {temp_celsius=25.062, temp_fahrenheit=77.11160...   \n",
       "4  {temp_celsius=25.062, temp_fahrenheit=77.11160...   \n",
       "\n",
       "   water_vs_air_temp_fahrenheit  \\\n",
       "0                        1.7784   \n",
       "1                           NaN   \n",
       "2                           NaN   \n",
       "3                        3.1284   \n",
       "4                        2.5884   \n",
       "\n",
       "                                           timestamp  \\\n",
       "0  {datetime=Mon Jul  4 21:43:20 2022, day_of_yea...   \n",
       "1                                                NaN   \n",
       "2                                                NaN   \n",
       "3  {datetime=Mon Jul  4 18:50:58 2022, day_of_yea...   \n",
       "4  {datetime=Mon Jul  4 19:21:40 2022, day_of_yea...   \n",
       "\n",
       "                                            light_uv                     __dt  \n",
       "0                {uv=0, ambient=0, uvi=0.0, lux=0.0}  2022-07-05 00:00:00.000  \n",
       "1                                                NaN  2022-07-04 00:00:00.000  \n",
       "2                                                NaN  2022-07-04 00:00:00.000  \n",
       "3  {uv=0, ambient=119, uvi=0.0, lux=95.1999999999...  2022-07-04 00:00:00.000  \n",
       "4             {uv=0, ambient=121, uvi=0.0, lux=96.8}  2022-07-04 00:00:00.000  "
      ]
     },
     "execution_count": 8,
     "metadata": {},
     "output_type": "execute_result"
    }
   ],
   "source": [
    "raw_json.head()"
   ]
  },
  {
   "cell_type": "code",
   "execution_count": 17,
   "metadata": {},
   "outputs": [
    {
     "data": {
      "text/plain": [
       "0      {visible=261, ir=254, uv=2, uv_index=0.02}\n",
       "1      {visible=265, ir=289, uv=4, uv_index=0.04}\n",
       "2      {visible=261, ir=254, uv=2, uv_index=0.02}\n",
       "3      {visible=261, ir=259, uv=2, uv_index=0.02}\n",
       "4      {visible=261, ir=260, uv=2, uv_index=0.02}\n",
       "                          ...                    \n",
       "948    {visible=265, ir=289, uv=4, uv_index=0.04}\n",
       "949    {visible=261, ir=257, uv=2, uv_index=0.02}\n",
       "950    {visible=261, ir=253, uv=2, uv_index=0.02}\n",
       "951    {visible=262, ir=266, uv=3, uv_index=0.03}\n",
       "952    {visible=262, ir=274, uv=3, uv_index=0.03}\n",
       "Name: light, Length: 953, dtype: object"
      ]
     },
     "execution_count": 17,
     "metadata": {},
     "output_type": "execute_result"
    }
   ],
   "source": [
    "raw_json['light']"
   ]
  },
  {
   "cell_type": "code",
   "execution_count": 22,
   "metadata": {},
   "outputs": [
    {
     "data": {
      "text/plain": [
       "0      {visible=261, ir=254, uv=2, uv_index=0.02}\n",
       "1      {visible=265, ir=289, uv=4, uv_index=0.04}\n",
       "2      {visible=261, ir=254, uv=2, uv_index=0.02}\n",
       "3      {visible=261, ir=259, uv=2, uv_index=0.02}\n",
       "4      {visible=261, ir=260, uv=2, uv_index=0.02}\n",
       "                          ...                    \n",
       "948    {visible=265, ir=289, uv=4, uv_index=0.04}\n",
       "949    {visible=261, ir=257, uv=2, uv_index=0.02}\n",
       "950    {visible=261, ir=253, uv=2, uv_index=0.02}\n",
       "951    {visible=262, ir=266, uv=3, uv_index=0.03}\n",
       "952    {visible=262, ir=274, uv=3, uv_index=0.03}\n",
       "Name: light, Length: 953, dtype: object"
      ]
     },
     "execution_count": 22,
     "metadata": {},
     "output_type": "execute_result"
    }
   ],
   "source": [
    "# this doesn't seem to be json - possibly dict?\n",
    "raw_json['light'].explode('light')\n"
   ]
  }
 ],
 "metadata": {
  "kernelspec": {
   "display_name": "Python 3.8.10 ('greenhouse-iot')",
   "language": "python",
   "name": "python3"
  },
  "language_info": {
   "codemirror_mode": {
    "name": "ipython",
    "version": 3
   },
   "file_extension": ".py",
   "mimetype": "text/x-python",
   "name": "python",
   "nbconvert_exporter": "python",
   "pygments_lexer": "ipython3",
   "version": "3.8.10"
  },
  "orig_nbformat": 4,
  "vscode": {
   "interpreter": {
    "hash": "e31d1671ba4b6a39b82fb8ca6507d9db53e6cf4e388ac500694842d5663643da"
   }
  }
 },
 "nbformat": 4,
 "nbformat_minor": 2
}
